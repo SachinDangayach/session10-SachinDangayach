{
 "cells": [
  {
   "cell_type": "markdown",
   "metadata": {},
   "source": [
    "# Session 10 Submissions by Sachin (Tupels and Named Tupels)"
   ]
  },
  {
   "cell_type": "code",
   "execution_count": 1,
   "metadata": {},
   "outputs": [],
   "source": [
    "from faker import Faker\n",
    "from collections import namedtuple\n",
    "from collections import Counter\n",
    "from datetime import datetime"
   ]
  },
  {
   "cell_type": "code",
   "execution_count": 2,
   "metadata": {},
   "outputs": [],
   "source": [
    "# timer decorator\n",
    "def timer_factory(repeat):\n",
    "    \"\"\"\n",
    "    decorator factory to create a decorator.\n",
    "    Inputs:\n",
    "        repaet: number of times the decorated function will be called\n",
    "    Returns:\n",
    "        time_it: decorator\n",
    "    \"\"\"\n",
    "    def time_it(func):\n",
    "        \"\"\"\n",
    "        decorator function called to decorate a function by timing it.\n",
    "        Inputs:\n",
    "            func: name of function which has to be timed ( will be free variable)\n",
    "        Returns:\n",
    "            time_it: function\n",
    "        \"\"\"\n",
    "        from time import perf_counter\n",
    "        from functools import wraps\n",
    "        # Check for a valid  function is passed to create a decorator\n",
    "        if not hasattr(func, '__call__'):\n",
    "            raise NameError(f\"{func} is not a valid function\")\n",
    "\n",
    "        @wraps(func)\n",
    "        def timer(*args, **kwargs):\n",
    "            \"\"\"\n",
    "            find average time to execute a function while running it for n times.\n",
    "            # Inputs:\n",
    "                *args: positioned parameters\n",
    "                **kwargs: named parameters\n",
    "            # Returns:\n",
    "                Returns output of function func(*args,**kwargs)\n",
    "\n",
    "            # Functionality:\n",
    "                Function check's how much time it takes on an average for n runs to execute a function\n",
    "\n",
    "            For eg: after decorating fact function for repeat = 100, we will get how much time it takes for\n",
    "            fact function to run for any given inputs on an average for 100 runs. In this case we will get -\n",
    "            fact(5)\n",
    "            Function fact takes average run time of 2.3930000179461787e-06 for 100 iterations\n",
    "            \"\"\"\n",
    "            total_elapsed = 0\n",
    "            for i in range(repeat):\n",
    "                start = perf_counter()\n",
    "                result = func(*args, **kwargs)\n",
    "                end = perf_counter()\n",
    "                total_elapsed += (end - start)\n",
    "            avg_run_time = total_elapsed / repeat\n",
    "            print(f'Function {func.__name__} takes average run time of {avg_run_time} for {repeat} iterations')\n",
    "            return result, avg_run_time\n",
    "        return timer\n",
    "    return time_it"
   ]
  },
  {
   "cell_type": "markdown",
   "metadata": {},
   "source": [
    "### 1. Use Faker library to get 10000 random profiles. Using namedtuple, calculate the largest blood type, mean-current_location, oldest_person_age and average age (add proper doc-strings)"
   ]
  },
  {
   "cell_type": "code",
   "execution_count": 3,
   "metadata": {},
   "outputs": [],
   "source": [
    "# Create faker instance\n",
    "fake = Faker()"
   ]
  },
  {
   "cell_type": "code",
   "execution_count": 4,
   "metadata": {},
   "outputs": [],
   "source": [
    "# Get a dummy fake profile \n",
    "dummy = fake.profile()"
   ]
  },
  {
   "cell_type": "code",
   "execution_count": 5,
   "metadata": {},
   "outputs": [
    {
     "data": {
      "text/plain": [
       "dict_keys(['job', 'company', 'ssn', 'residence', 'current_location', 'blood_group', 'website', 'username', 'name', 'sex', 'address', 'mail', 'birthdate'])"
      ]
     },
     "execution_count": 5,
     "metadata": {},
     "output_type": "execute_result"
    }
   ],
   "source": [
    "# Explore keys\n",
    "dummy.keys()"
   ]
  },
  {
   "cell_type": "code",
   "execution_count": 6,
   "metadata": {},
   "outputs": [
    {
     "data": {
      "text/plain": [
       "{'job': 'Physicist, medical',\n",
       " 'company': 'Rush-Leblanc',\n",
       " 'ssn': '476-25-4635',\n",
       " 'residence': '99255 Erin Prairie Suite 819\\nEast Matthew, WA 67939',\n",
       " 'current_location': (Decimal('33.8836115'), Decimal('-49.397262')),\n",
       " 'blood_group': 'AB-',\n",
       " 'website': ['https://www.harvey.biz/'],\n",
       " 'username': 'yking',\n",
       " 'name': 'Lynn Dean',\n",
       " 'sex': 'F',\n",
       " 'address': '332 Jennifer Mountains Apt. 788\\nEast Johnton, IA 54862',\n",
       " 'mail': 'jeffreyhernandez@hotmail.com',\n",
       " 'birthdate': datetime.date(1999, 11, 4)}"
      ]
     },
     "execution_count": 6,
     "metadata": {},
     "output_type": "execute_result"
    }
   ],
   "source": [
    "dummy"
   ]
  },
  {
   "cell_type": "code",
   "execution_count": 7,
   "metadata": {},
   "outputs": [],
   "source": [
    "# Create a namedtuple class\n",
    "FakePrf = namedtuple('FakePrf', dummy.keys())"
   ]
  },
  {
   "cell_type": "code",
   "execution_count": 8,
   "metadata": {},
   "outputs": [
    {
     "data": {
      "text/plain": [
       "'FakePrf(job, company, ssn, residence, current_location, blood_group, website, username, name, sex, address, mail, birthdate)'"
      ]
     },
     "execution_count": 8,
     "metadata": {},
     "output_type": "execute_result"
    }
   ],
   "source": [
    "# Check doc string\n",
    "FakePrf.__doc__"
   ]
  },
  {
   "cell_type": "code",
   "execution_count": 9,
   "metadata": {},
   "outputs": [],
   "source": [
    "# Overwrite doc string\n",
    "FakePrf.__doc__ = \"Represents random fake profile\""
   ]
  },
  {
   "cell_type": "code",
   "execution_count": 10,
   "metadata": {},
   "outputs": [],
   "source": [
    "# Create a namedtuple class for fake profiles db\n",
    "FakePrfDb = namedtuple('FakePrfDb', 'FakePrf_0')\n"
   ]
  },
  {
   "cell_type": "code",
   "execution_count": 11,
   "metadata": {},
   "outputs": [],
   "source": [
    "# Overwrite doc string\n",
    "FakePrfDb.__doc__ = \"Represents database of random fake profile\""
   ]
  },
  {
   "cell_type": "code",
   "execution_count": 12,
   "metadata": {},
   "outputs": [],
   "source": [
    "for i in range(10000):\n",
    "    # get a fake profile\n",
    "    f_prfl = fake.profile()\n",
    "    \n",
    "    # Create tuple from namedtuple class to store the f_prfl\n",
    "    fake_profile = FakePrf(**f_prfl)\n",
    "    \n",
    "    \n",
    "    # Add profile to Fake Profile DB\n",
    "    if i==0:\n",
    "        faker_db = FakePrfDb(fake_profile) \n",
    "    else:\n",
    "        FakePrfDb = namedtuple('FakePrfDb', FakePrfDb._fields + ('FakePrf_'+str(i),))\n",
    "        \n",
    "        faker_db = FakePrfDb._make(faker_db + (fake_profile,))"
   ]
  },
  {
   "cell_type": "code",
   "execution_count": 13,
   "metadata": {},
   "outputs": [],
   "source": [
    "#  calculate the largest blood type\n",
    "@timer_factory(100)\n",
    "def largest_bg(faker_db):\n",
    "    \"\"\"\n",
    "    Return the most common blood group\n",
    "    of fake profile db as named tuple\n",
    "    \"\"\"\n",
    "    count = len(faker_db) \n",
    "    bl_grp = []\n",
    "    for i in range(count):\n",
    "        bl_grp.append(faker_db[i][5])\n",
    "    return Counter(bl_grp).most_common(1)[0][0]"
   ]
  },
  {
   "cell_type": "code",
   "execution_count": 14,
   "metadata": {},
   "outputs": [
    {
     "name": "stdout",
     "output_type": "stream",
     "text": [
      "Function largest_bg takes average run time of 0.0029362619999938034 for 100 iterations\n",
      "AB-\n"
     ]
    }
   ],
   "source": [
    "bg, time = largest_bg(faker_db)\n",
    "print(bg)"
   ]
  },
  {
   "cell_type": "code",
   "execution_count": 15,
   "metadata": {},
   "outputs": [],
   "source": [
    "# mean-current_location\n",
    "@timer_factory(100)\n",
    "def mean_current_location(faker_db):\n",
    "    \"\"\"\n",
    "    Return the mean-current_location\n",
    "    of fake profile db as named tuple\n",
    "    \"\"\"\n",
    "    count = len(faker_db) \n",
    "    lat = []\n",
    "    long = []\n",
    "    for i in range(count):\n",
    "        lat.append(faker_db[i][4][0])\n",
    "        long.append(faker_db[i][4][1])\n",
    "    return sum(lat)/count,sum(long)/count    "
   ]
  },
  {
   "cell_type": "code",
   "execution_count": 16,
   "metadata": {},
   "outputs": [
    {
     "name": "stdout",
     "output_type": "stream",
     "text": [
      "Function mean_current_location takes average run time of 0.007118027999983951 for 100 iterations\n",
      "0.378984243 1.3483958471\n"
     ]
    }
   ],
   "source": [
    "(lat,long),time = mean_current_location(faker_db)\n",
    "print(lat,long)"
   ]
  },
  {
   "cell_type": "code",
   "execution_count": 17,
   "metadata": {},
   "outputs": [],
   "source": [
    "# oldest person's age\n",
    "@timer_factory(100)\n",
    "def oldest_person_age(faker_db):\n",
    "    \"\"\"\n",
    "    Return the oldest person's age\n",
    "    of fake profile db as named tuple\n",
    "    \"\"\"\n",
    "    size = len(faker_db) \n",
    "    age = []\n",
    "    days_in_year = 365.2425 \n",
    "    today = datetime.date(datetime.today())\n",
    "    for i in range(size):\n",
    "        age.append((today - faker_db[i][12]).days / days_in_year)\n",
    "    return max(age)"
   ]
  },
  {
   "cell_type": "code",
   "execution_count": 18,
   "metadata": {},
   "outputs": [
    {
     "name": "stdout",
     "output_type": "stream",
     "text": [
      "Function oldest_person_age takes average run time of 0.0038962049999940974 for 100 iterations\n",
      "115.98869244406113\n"
     ]
    }
   ],
   "source": [
    "oldest_age, time= oldest_person_age(faker_db)\n",
    "print(oldest_age)"
   ]
  },
  {
   "cell_type": "code",
   "execution_count": 19,
   "metadata": {},
   "outputs": [],
   "source": [
    "# average age\n",
    "@timer_factory(100)\n",
    "def average_age(faker_db):\n",
    "    \"\"\"\n",
    "    Return the average age\n",
    "    of fake profile db as named tuple\n",
    "    \"\"\"\n",
    "    count = len(faker_db) \n",
    "    age = []\n",
    "    days_in_year = 365.2425 \n",
    "    today = datetime.date(datetime.today())\n",
    "    for i in range(count):\n",
    "        age.append((today - faker_db[i][12]).days / days_in_year)\n",
    "    return sum(age)/count"
   ]
  },
  {
   "cell_type": "code",
   "execution_count": 20,
   "metadata": {},
   "outputs": [
    {
     "name": "stdout",
     "output_type": "stream",
     "text": [
      "Function average_age takes average run time of 0.00412065400000074 for 100 iterations\n"
     ]
    }
   ],
   "source": [
    "avg_age, time = average_age(faker_db)"
   ]
  },
  {
   "cell_type": "code",
   "execution_count": 21,
   "metadata": {},
   "outputs": [
    {
     "data": {
      "text/plain": [
       "58.61777750398718"
      ]
     },
     "execution_count": 21,
     "metadata": {},
     "output_type": "execute_result"
    }
   ],
   "source": [
    "avg_age"
   ]
  },
  {
   "cell_type": "markdown",
   "metadata": {},
   "source": [
    "### 2. Do the same thing above using a dictionary. Prove that namedtuple is faster"
   ]
  },
  {
   "cell_type": "code",
   "execution_count": 22,
   "metadata": {},
   "outputs": [],
   "source": [
    "# Create a fake profile DB dictonary object\n",
    "faker_db_dict = {}"
   ]
  },
  {
   "cell_type": "code",
   "execution_count": 37,
   "metadata": {},
   "outputs": [],
   "source": [
    "for i in range(10000):\n",
    "    # get a fake profile\n",
    "    f_prfl = fake.profile()\n",
    "    \n",
    "    # prepare next key\n",
    "    key = 'fk_pr_' + str(i+1)\n",
    "        \n",
    "    # Add profile to Fake Profile DB\n",
    "    faker_db_dict[key] = f_prfl"
   ]
  },
  {
   "cell_type": "code",
   "execution_count": 38,
   "metadata": {},
   "outputs": [],
   "source": [
    "#  calculate the largest blood type\n",
    "@timer_factory(100)\n",
    "def largest_bg_dict(faker_db_dict):\n",
    "    \"\"\"\n",
    "    Return the most common blood group for\n",
    "    fake profile db as dictionary\n",
    "    \"\"\"\n",
    "    count = len(faker_db_dict) \n",
    "    bl_grp = []\n",
    "    for i in range(count):\n",
    "        key = 'fk_pr_' + str(i+1)\n",
    "        bl_grp.append(faker_db_dict[key]['blood_group'])\n",
    "    return Counter(bl_grp).most_common(1)[0][0]"
   ]
  },
  {
   "cell_type": "code",
   "execution_count": 39,
   "metadata": {},
   "outputs": [
    {
     "name": "stdout",
     "output_type": "stream",
     "text": [
      "Function largest_bg_dict takes average run time of 0.00868963699997039 for 100 iterations\n"
     ]
    },
    {
     "data": {
      "text/plain": [
       "('B-', 0.00868963699997039)"
      ]
     },
     "execution_count": 39,
     "metadata": {},
     "output_type": "execute_result"
    }
   ],
   "source": [
    "largest_bg_dict(faker_db_dict)"
   ]
  },
  {
   "cell_type": "code",
   "execution_count": 40,
   "metadata": {},
   "outputs": [],
   "source": [
    "# mean-current_location\n",
    "@timer_factory(100)\n",
    "def mean_current_location_dict(faker_db_dict):\n",
    "    \"\"\"\n",
    "    Return the mean-current_location\n",
    "    of fake profile db as dictionary\n",
    "    \"\"\"\n",
    "    count = len(faker_db_dict) \n",
    "    lat = []\n",
    "    long = []\n",
    "    for i in range(count):\n",
    "        key = 'fk_pr_' + str(i+1)\n",
    "        lat.append(faker_db_dict[key]['current_location'][0])\n",
    "        long.append(faker_db_dict[key]['current_location'][1])\n",
    "    return sum(lat)/count,sum(long)/count    "
   ]
  },
  {
   "cell_type": "code",
   "execution_count": 41,
   "metadata": {},
   "outputs": [
    {
     "name": "stdout",
     "output_type": "stream",
     "text": [
      "Function mean_current_location_dict takes average run time of 0.010586135999974431 for 100 iterations\n",
      "(Decimal('-0.11236560485'), Decimal('1.5045699781')) 0.010586135999974431\n"
     ]
    }
   ],
   "source": [
    "lat,long = mean_current_location_dict(faker_db_dict)\n",
    "print(lat,long)"
   ]
  },
  {
   "cell_type": "code",
   "execution_count": 42,
   "metadata": {},
   "outputs": [],
   "source": [
    "# oldest person's age\n",
    "@timer_factory(100)\n",
    "def oldest_person_age_dict(faker_db_dict):\n",
    "    \"\"\"\n",
    "    Return the oldest person's age\n",
    "    of fake profile db as dictionary\n",
    "    \"\"\"\n",
    "    size = len(faker_db_dict) \n",
    "    age = []\n",
    "    days_in_year = 365.2425 \n",
    "    today = datetime.date(datetime.today())\n",
    "    for i in range(size):\n",
    "        key = 'fk_pr_' + str(i+1)\n",
    "        age.append((today - faker_db_dict[key]['birthdate']).days / days_in_year)\n",
    "    return max(age)"
   ]
  },
  {
   "cell_type": "code",
   "execution_count": 43,
   "metadata": {},
   "outputs": [
    {
     "name": "stdout",
     "output_type": "stream",
     "text": [
      "Function oldest_person_age_dict takes average run time of 0.008685003999989931 for 100 iterations\n"
     ]
    },
    {
     "data": {
      "text/plain": [
       "(115.99143035106812, 0.008685003999989931)"
      ]
     },
     "execution_count": 43,
     "metadata": {},
     "output_type": "execute_result"
    }
   ],
   "source": [
    "oldest_person_age_dict(faker_db_dict)"
   ]
  },
  {
   "cell_type": "code",
   "execution_count": 44,
   "metadata": {},
   "outputs": [],
   "source": [
    "# average age\n",
    "@timer_factory(100)\n",
    "def average_age_dict(faker_db_dict):\n",
    "    \"\"\"\n",
    "    Return the average age\n",
    "    of fake profile db as dictionary\n",
    "    \"\"\"\n",
    "    count = len(faker_db_dict) \n",
    "    age = []\n",
    "    days_in_year = 365.2425 \n",
    "    today = datetime.date(datetime.today())\n",
    "    for i in range(count):\n",
    "        key = 'fk_pr_' + str(i+1)\n",
    "        age.append((today - faker_db_dict[key]['birthdate']).days / days_in_year)\n",
    "    return sum(age)/count"
   ]
  },
  {
   "cell_type": "code",
   "execution_count": 45,
   "metadata": {},
   "outputs": [
    {
     "name": "stdout",
     "output_type": "stream",
     "text": [
      "Function average_age_dict takes average run time of 0.00851932299994587 for 100 iterations\n"
     ]
    },
    {
     "data": {
      "text/plain": [
       "(57.96942880415096, 0.00851932299994587)"
      ]
     },
     "execution_count": 45,
     "metadata": {},
     "output_type": "execute_result"
    }
   ],
   "source": [
    "average_age_dict(faker_db_dict)"
   ]
  },
  {
   "cell_type": "code",
   "execution_count": 52,
   "metadata": {},
   "outputs": [],
   "source": [
    "# Compare the Namped Tuple Vs Dict Performance\n",
    "def compare_time(nt_db, dict_db):\n",
    "    \"\"\"\n",
    "    function to compare the perforamce\n",
    "    of nt vs dict\n",
    "    \"\"\"\n",
    "    nt_func_list = [largest_bg,mean_current_location,oldest_person_age,average_age]\n",
    "    nt_timer = 0\n",
    "    for i in range(len(nt_func_list)):\n",
    "        _, time = nt_func_list[i](nt_db)\n",
    "        nt_timer += time\n",
    "    \n",
    "    print('\\n',\"========================\")\n",
    "    \n",
    "    dict_func_list = [largest_bg_dict,mean_current_location_dict,oldest_person_age_dict,average_age_dict]\n",
    "    dict_timer = 0\n",
    "    for i in range(len(dict_func_list)):\n",
    "        _, time = dict_func_list[i](dict_db)\n",
    "        dict_timer += time    \n",
    "    \n",
    "    print('\\n',\"========================\")\n",
    "    print(f\"{'Named Tuple'if dict_timer > nt_timer else 'Dictionory'} performs {round(dict_timer/nt_timer) if dict_timer > nt_timer else round(nt_timer/dict_timer)} times faster\")\n",
    "    print('\\n',\"========================\")\n",
    "    \n",
    "    return(nt_timer, dict_timer)\n",
    "    \n",
    "    "
   ]
  },
  {
   "cell_type": "code",
   "execution_count": 53,
   "metadata": {},
   "outputs": [
    {
     "name": "stdout",
     "output_type": "stream",
     "text": [
      "Function largest_bg takes average run time of 0.0025351170000249114 for 100 iterations\n",
      "Function mean_current_location takes average run time of 0.004901571999971566 for 100 iterations\n",
      "Function oldest_person_age takes average run time of 0.0033055330000388494 for 100 iterations\n",
      "Function average_age takes average run time of 0.003617405999957555 for 100 iterations\n",
      "\n",
      " ========================\n",
      "Function largest_bg_dict takes average run time of 0.008090984000027675 for 100 iterations\n",
      "Function mean_current_location_dict takes average run time of 0.011033325000016702 for 100 iterations\n",
      "Function oldest_person_age_dict takes average run time of 0.008602530000043771 for 100 iterations\n",
      "Function average_age_dict takes average run time of 0.009198861000013494 for 100 iterations\n",
      "\n",
      " ========================\n",
      "Named Tuple performs 3 times faster\n",
      "\n",
      " ========================\n"
     ]
    },
    {
     "data": {
      "text/plain": [
       "(0.014359627999992882, 0.03692570000010164)"
      ]
     },
     "execution_count": 53,
     "metadata": {},
     "output_type": "execute_result"
    }
   ],
   "source": [
    "compare_time(faker_db, faker_db_dict)"
   ]
  },
  {
   "cell_type": "markdown",
   "metadata": {},
   "source": [
    "### 3. Create a fake data (you can use Faker for company names) for imaginary stock exchange for top 100 companies (name, symbol, open, high, close). Assign a random weight to all the companies. Calculate and show what value stock market started at, what was the highest value during the day and where did it end. Make sure your open, high, close are not totally random."
   ]
  },
  {
   "cell_type": "code",
   "execution_count": null,
   "metadata": {},
   "outputs": [],
   "source": []
  },
  {
   "cell_type": "code",
   "execution_count": null,
   "metadata": {},
   "outputs": [],
   "source": []
  },
  {
   "cell_type": "code",
   "execution_count": null,
   "metadata": {},
   "outputs": [],
   "source": []
  },
  {
   "cell_type": "code",
   "execution_count": null,
   "metadata": {},
   "outputs": [],
   "source": []
  },
  {
   "cell_type": "code",
   "execution_count": null,
   "metadata": {},
   "outputs": [],
   "source": []
  },
  {
   "cell_type": "code",
   "execution_count": null,
   "metadata": {},
   "outputs": [],
   "source": []
  },
  {
   "cell_type": "code",
   "execution_count": 36,
   "metadata": {},
   "outputs": [],
   "source": [
    "from operator import itemgetter"
   ]
  },
  {
   "cell_type": "code",
   "execution_count": 33,
   "metadata": {},
   "outputs": [],
   "source": [
    "key=itemgetter(faker_db)"
   ]
  },
  {
   "cell_type": "code",
   "execution_count": 29,
   "metadata": {},
   "outputs": [
    {
     "data": {
      "text/plain": [
       "operator.itemgetter(FakePrfDb(FakePrf_0=FakePrf(job='Best boy', company='Hoffman PLC', ssn='792-19-9515', residence='584 Delacruz Route\\nPort Nicole, PA 30307', current_location=(Decimal('12.707898'), Decimal('-0.223412')), blood_group='O-', website=['https://williams.org/', 'http://cox-vance.info/', 'http://wiley.org/', 'https://www.ramirez.com/'], username='davidtucker', name='Amanda Brown', sex='F', address='330 Webb Mission\\nSouth Rebeccafurt, HI 57833', mail='espinozascott@hotmail.com', birthdate=datetime.date(1959, 4, 17)), FakePrf_1=FakePrf(job='Radiographer, diagnostic', company='Reed, Davis and Kemp', ssn='113-44-6344', residence='8254 Michael Rest Suite 002\\nWatersland, IL 93406', current_location=(Decimal('73.348788'), Decimal('-138.714095')), blood_group='O+', website=['http://wells.com/', 'https://www.owens.biz/', 'http://jones.org/'], username='harrisluis', name='Jane Torres', sex='F', address='3798 Turner Wall\\nLake Matthew, WI 16348', mail='swyatt@gmail.com', birthdate=datetime.date(1966, 2, 18)), FakePrf_2=FakePrf(job='Accountant, chartered public finance', company='Hatfield-Chambers', ssn='864-68-0751', residence='0318 Gonzalez Meadow Suite 631\\nPort Kimberlymouth, CA 56788', current_location=(Decimal('-30.4244755'), Decimal('-103.687693')), blood_group='O-', website=['http://www.moses-king.com/', 'https://gilbert.com/', 'https://rhodes.info/', 'https://www.powell.biz/'], username='matthewwhite', name='Alexandra Green', sex='F', address='4126 Green Radial Suite 019\\nByrdstad, CO 79487', mail='cynthiaharris@yahoo.com', birthdate=datetime.date(1931, 7, 2)), FakePrf_3=FakePrf(job='English as a foreign language teacher', company='Estrada, Melendez and Potter', ssn='274-38-3178', residence='63248 Gibson Bridge Apt. 128\\nWest Amberside, MO 39757', current_location=(Decimal('-87.2469995'), Decimal('119.623725')), blood_group='O+', website=['http://www.thompson-clarke.com/'], username='zfrazier', name='Kimberly Taylor', sex='F', address='7930 Tammy Passage\\nNew Jeremyshire, NJ 97785', mail='singhlance@gmail.com', birthdate=datetime.date(1977, 1, 26)), FakePrf_4=FakePrf(job='Building surveyor', company='Davis Ltd', ssn='593-79-4880', residence='6708 Cynthia Pines\\nTimport, MO 50201', current_location=(Decimal('8.2763605'), Decimal('61.547507')), blood_group='A-', website=['http://www.jones.com/'], username='millerjacob', name='Jenna Smith', sex='F', address='4142 Angela Ranch\\nLake Scottton, WI 65598', mail='michael76@yahoo.com', birthdate=datetime.date(1927, 10, 4))))"
      ]
     },
     "execution_count": 29,
     "metadata": {},
     "output_type": "execute_result"
    }
   ],
   "source": [
    "key"
   ]
  },
  {
   "cell_type": "code",
   "execution_count": 34,
   "metadata": {},
   "outputs": [],
   "source": [
    "a = iter(faker_db)"
   ]
  },
  {
   "cell_type": "code",
   "execution_count": 35,
   "metadata": {},
   "outputs": [
    {
     "data": {
      "text/plain": [
       "datetime.date(1959, 4, 17)"
      ]
     },
     "execution_count": 35,
     "metadata": {},
     "output_type": "execute_result"
    }
   ],
   "source": [
    "next(a)[12]"
   ]
  },
  {
   "cell_type": "code",
   "execution_count": 36,
   "metadata": {},
   "outputs": [
    {
     "data": {
      "text/plain": [
       "FakePrf(job='Accountant, chartered public finance', company='Hatfield-Chambers', ssn='864-68-0751', residence='0318 Gonzalez Meadow Suite 631\\nPort Kimberlymouth, CA 56788', current_location=(Decimal('-30.4244755'), Decimal('-103.687693')), blood_group='O-', website=['http://www.moses-king.com/', 'https://gilbert.com/', 'https://rhodes.info/', 'https://www.powell.biz/'], username='matthewwhite', name='Alexandra Green', sex='F', address='4126 Green Radial Suite 019\\nByrdstad, CO 79487', mail='cynthiaharris@yahoo.com', birthdate=datetime.date(1931, 7, 2))"
      ]
     },
     "execution_count": 36,
     "metadata": {},
     "output_type": "execute_result"
    }
   ],
   "source": [
    "min(faker_db, key=itemgetter(0))"
   ]
  },
  {
   "cell_type": "code",
   "execution_count": 37,
   "metadata": {},
   "outputs": [
    {
     "ename": "TypeError",
     "evalue": "'datetime.date' object is not callable",
     "output_type": "error",
     "traceback": [
      "\u001b[1;31m---------------------------------------------------------------------------\u001b[0m",
      "\u001b[1;31mTypeError\u001b[0m                                 Traceback (most recent call last)",
      "\u001b[1;32m<ipython-input-37-8baf8b4c8adb>\u001b[0m in \u001b[0;36m<module>\u001b[1;34m\u001b[0m\n\u001b[1;32m----> 1\u001b[1;33m \u001b[0mmin\u001b[0m\u001b[1;33m=\u001b[0m\u001b[0msorted\u001b[0m\u001b[1;33m(\u001b[0m\u001b[0mfaker_db\u001b[0m\u001b[1;33m,\u001b[0m \u001b[0mkey\u001b[0m\u001b[1;33m=\u001b[0m\u001b[0mnext\u001b[0m\u001b[1;33m(\u001b[0m \u001b[0miter\u001b[0m\u001b[1;33m(\u001b[0m\u001b[0mfaker_db\u001b[0m\u001b[1;33m)\u001b[0m\u001b[1;33m)\u001b[0m\u001b[1;33m[\u001b[0m\u001b[1;36m12\u001b[0m\u001b[1;33m]\u001b[0m\u001b[1;33m)\u001b[0m\u001b[1;33m\u001b[0m\u001b[1;33m\u001b[0m\u001b[0m\n\u001b[0m",
      "\u001b[1;31mTypeError\u001b[0m: 'datetime.date' object is not callable"
     ]
    }
   ],
   "source": [
    "min=sorted(faker_db, key=next( iter(faker_db))[12])"
   ]
  },
  {
   "cell_type": "code",
   "execution_count": 72,
   "metadata": {},
   "outputs": [
    {
     "data": {
      "text/plain": [
       "datetime.date(1915, 8, 11)"
      ]
     },
     "execution_count": 72,
     "metadata": {},
     "output_type": "execute_result"
    }
   ],
   "source": [
    "next( iter(faker_db))[12]"
   ]
  },
  {
   "cell_type": "code",
   "execution_count": 38,
   "metadata": {},
   "outputs": [
    {
     "data": {
      "text/plain": [
       "[datetime.date(1959, 4, 17),\n",
       " datetime.date(1966, 2, 18),\n",
       " datetime.date(1931, 7, 2),\n",
       " datetime.date(1977, 1, 26),\n",
       " datetime.date(1927, 10, 4)]"
      ]
     },
     "execution_count": 38,
     "metadata": {},
     "output_type": "execute_result"
    }
   ],
   "source": [
    "[x[12] for x in faker_db]"
   ]
  },
  {
   "cell_type": "code",
   "execution_count": 23,
   "metadata": {},
   "outputs": [],
   "source": [
    "today = datetime.date(datetime.today())"
   ]
  },
  {
   "cell_type": "code",
   "execution_count": 24,
   "metadata": {},
   "outputs": [
    {
     "data": {
      "text/plain": [
       "[61.49315068493151,\n",
       " 54.64657534246575,\n",
       " 89.30410958904109,\n",
       " 43.701369863013696,\n",
       " 93.04931506849314]"
      ]
     },
     "execution_count": 24,
     "metadata": {},
     "output_type": "execute_result"
    }
   ],
   "source": [
    "[(today-x[12]).days/365 for x in faker_db]"
   ]
  },
  {
   "cell_type": "code",
   "execution_count": 25,
   "metadata": {},
   "outputs": [
    {
     "data": {
      "text/plain": [
       "<function __main__.<lambda>(x)>"
      ]
     },
     "execution_count": 25,
     "metadata": {},
     "output_type": "execute_result"
    }
   ],
   "source": [
    "lambda x: min((today-x[12]).days/365 for x in faker_db)"
   ]
  },
  {
   "cell_type": "code",
   "execution_count": 39,
   "metadata": {},
   "outputs": [
    {
     "data": {
      "text/plain": [
       "43.701369863013696"
      ]
     },
     "execution_count": 39,
     "metadata": {},
     "output_type": "execute_result"
    }
   ],
   "source": [
    "min((today-x[12]).days/365 for x in faker_db)"
   ]
  },
  {
   "cell_type": "code",
   "execution_count": 40,
   "metadata": {},
   "outputs": [
    {
     "data": {
      "text/plain": [
       "FakePrf(job='Building surveyor', company='Davis Ltd', ssn='593-79-4880', residence='6708 Cynthia Pines\\nTimport, MO 50201', current_location=(Decimal('8.2763605'), Decimal('61.547507')), blood_group='A-', website=['http://www.jones.com/'], username='millerjacob', name='Jenna Smith', sex='F', address='4142 Angela Ranch\\nLake Scottton, WI 65598', mail='michael76@yahoo.com', birthdate=datetime.date(1927, 10, 4))"
      ]
     },
     "execution_count": 40,
     "metadata": {},
     "output_type": "execute_result"
    }
   ],
   "source": [
    "min(faker_db, key=itemgetter(1))"
   ]
  },
  {
   "cell_type": "code",
   "execution_count": 45,
   "metadata": {},
   "outputs": [
    {
     "data": {
      "text/plain": [
       "datetime.date(1927, 10, 4)"
      ]
     },
     "execution_count": 45,
     "metadata": {},
     "output_type": "execute_result"
    }
   ],
   "source": [
    "\n",
    "itemgetter(i)(faker_db)[12]"
   ]
  },
  {
   "cell_type": "code",
   "execution_count": 1,
   "metadata": {},
   "outputs": [],
   "source": [
    "a =[('a', 2), ('ee', 3), ('mm', 4), ('x', 1)]"
   ]
  },
  {
   "cell_type": "code",
   "execution_count": 7,
   "metadata": {},
   "outputs": [
    {
     "data": {
      "text/plain": [
       "('x', 1)"
      ]
     },
     "execution_count": 7,
     "metadata": {},
     "output_type": "execute_result"
    }
   ],
   "source": [
    "min(a, key=itemgetter(1))"
   ]
  },
  {
   "cell_type": "code",
   "execution_count": 3,
   "metadata": {},
   "outputs": [
    {
     "data": {
      "text/plain": [
       "('x', 1)"
      ]
     },
     "execution_count": 3,
     "metadata": {},
     "output_type": "execute_result"
    }
   ],
   "source": [
    "min(a, key=lambda t: t[1])"
   ]
  },
  {
   "cell_type": "code",
   "execution_count": 46,
   "metadata": {},
   "outputs": [
    {
     "data": {
      "text/plain": [
       "4"
      ]
     },
     "execution_count": 46,
     "metadata": {},
     "output_type": "execute_result"
    }
   ],
   "source": [
    "i"
   ]
  },
  {
   "cell_type": "code",
   "execution_count": null,
   "metadata": {},
   "outputs": [],
   "source": []
  }
 ],
 "metadata": {
  "kernelspec": {
   "display_name": "Python 3",
   "language": "python",
   "name": "python3"
  },
  "language_info": {
   "codemirror_mode": {
    "name": "ipython",
    "version": 3
   },
   "file_extension": ".py",
   "mimetype": "text/x-python",
   "name": "python",
   "nbconvert_exporter": "python",
   "pygments_lexer": "ipython3",
   "version": "3.7.7"
  }
 },
 "nbformat": 4,
 "nbformat_minor": 4
}

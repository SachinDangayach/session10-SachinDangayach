{
 "cells": [
  {
   "cell_type": "markdown",
   "metadata": {},
   "source": [
    "# Session 10 Submissions by Sachin (Tupels and Named Tupels)"
   ]
  },
  {
   "cell_type": "code",
   "execution_count": 1,
   "metadata": {},
   "outputs": [],
   "source": [
    "import pandas as pd\n",
    "import session10 as s10"
   ]
  },
  {
   "cell_type": "markdown",
   "metadata": {},
   "source": [
    "### 1. Use Faker library to get 10000 random profiles. Using namedtuple, calculate the largest blood type, mean-current_location, oldest_person_age and average age (add proper doc-strings)"
   ]
  },
  {
   "cell_type": "code",
   "execution_count": 2,
   "metadata": {},
   "outputs": [],
   "source": [
    "# Create fake profiles library by named tuples\n",
    "faker_db = s10.create_fake_library_by_namedtuple(10000)"
   ]
  },
  {
   "cell_type": "code",
   "execution_count": 3,
   "metadata": {},
   "outputs": [
    {
     "name": "stdout",
     "output_type": "stream",
     "text": [
      "Function largest_bg takes average run time of 0.015413620999996738 for 100 iterations\n",
      "A-\n"
     ]
    }
   ],
   "source": [
    "#  Calculate the largest blood type\n",
    "bg, time = s10.largest_bg(faker_db)\n",
    "print(bg)"
   ]
  },
  {
   "cell_type": "code",
   "execution_count": 4,
   "metadata": {},
   "outputs": [
    {
     "name": "stdout",
     "output_type": "stream",
     "text": [
      "Function mean_current_location takes average run time of 0.022715397999998003 for 100 iterations\n",
      "0.22046584465 -2.0530819694\n"
     ]
    }
   ],
   "source": [
    "# Calculate mean-current_location\n",
    "(lat,long),time = s10.mean_current_location(faker_db)\n",
    "print(lat,long)"
   ]
  },
  {
   "cell_type": "code",
   "execution_count": 5,
   "metadata": {},
   "outputs": [
    {
     "name": "stdout",
     "output_type": "stream",
     "text": [
      "Function oldest_person_age takes average run time of 0.014880346000005602 for 100 iterations\n",
      "115.99143035106812\n"
     ]
    }
   ],
   "source": [
    "# Calulate oldest person's age\n",
    "oldest_age, time= s10.oldest_person_age(faker_db)\n",
    "print(oldest_age)"
   ]
  },
  {
   "cell_type": "code",
   "execution_count": 6,
   "metadata": {},
   "outputs": [
    {
     "name": "stdout",
     "output_type": "stream",
     "text": [
      "Function average_age takes average run time of 0.013308610999993108 for 100 iterations\n",
      "57.644272230093556\n"
     ]
    }
   ],
   "source": [
    "# Calculte average age\n",
    "avg_age, time = s10.average_age(faker_db)\n",
    "print(avg_age)"
   ]
  },
  {
   "cell_type": "code",
   "execution_count": 7,
   "metadata": {},
   "outputs": [
    {
     "data": {
      "text/plain": [
       "'Represents database of 10000 random fake profile'"
      ]
     },
     "execution_count": 7,
     "metadata": {},
     "output_type": "execute_result"
    }
   ],
   "source": [
    "# Show the doc string\n",
    "faker_db.__doc__"
   ]
  },
  {
   "cell_type": "markdown",
   "metadata": {},
   "source": [
    "### 2. Do the same thing above using a dictionary. Prove that namedtuple is faster"
   ]
  },
  {
   "cell_type": "code",
   "execution_count": 8,
   "metadata": {},
   "outputs": [],
   "source": [
    "# Create fake profiles library through dictionary\n",
    "faker_db_dict = s10.create_fake_library_by_dict(10000)"
   ]
  },
  {
   "cell_type": "code",
   "execution_count": 9,
   "metadata": {},
   "outputs": [
    {
     "name": "stdout",
     "output_type": "stream",
     "text": [
      "Function largest_bg_dict takes average run time of 0.008437660000003006 for 100 iterations\n",
      "B+\n"
     ]
    }
   ],
   "source": [
    "#  Calculate the largest blood type\n",
    "bg, time = s10.largest_bg_dict(faker_db_dict)\n",
    "print(bg)"
   ]
  },
  {
   "cell_type": "code",
   "execution_count": 10,
   "metadata": {},
   "outputs": [
    {
     "name": "stdout",
     "output_type": "stream",
     "text": [
      "Function mean_current_location_dict takes average run time of 0.010559921999999914 for 100 iterations\n",
      "(Decimal('0.0561137867'), Decimal('-0.9567618182')) 0.010559921999999914\n"
     ]
    }
   ],
   "source": [
    "# Calculate mean-current_location\n",
    "lat,long = s10.mean_current_location_dict(faker_db_dict)\n",
    "print(lat,long)"
   ]
  },
  {
   "cell_type": "code",
   "execution_count": 11,
   "metadata": {},
   "outputs": [
    {
     "name": "stdout",
     "output_type": "stream",
     "text": [
      "Function oldest_person_age_dict takes average run time of 0.008675722999990967 for 100 iterations\n",
      "115.9969061650821\n"
     ]
    }
   ],
   "source": [
    "# Calulate oldest person's age\n",
    "oldest_age, time = s10.oldest_person_age_dict(faker_db_dict)\n",
    "print(oldest_age)"
   ]
  },
  {
   "cell_type": "code",
   "execution_count": 12,
   "metadata": {},
   "outputs": [
    {
     "name": "stdout",
     "output_type": "stream",
     "text": [
      "Function average_age_dict takes average run time of 0.008876910999994152 for 100 iterations\n",
      "58.063555582934534\n"
     ]
    }
   ],
   "source": [
    "# Calculte average age\n",
    "avg_age, time = s10.average_age_dict(faker_db_dict)\n",
    "print(avg_age)"
   ]
  },
  {
   "cell_type": "code",
   "execution_count": 13,
   "metadata": {},
   "outputs": [
    {
     "name": "stdout",
     "output_type": "stream",
     "text": [
      "Function largest_bg takes average run time of 0.0022890460000041914 for 100 iterations\n",
      "Function mean_current_location takes average run time of 0.004443137000002935 for 100 iterations\n",
      "Function oldest_person_age takes average run time of 0.0033427329999949507 for 100 iterations\n",
      "Function average_age takes average run time of 0.002986983000000691 for 100 iterations\n",
      "\n",
      " ========================\n",
      "Function largest_bg_dict takes average run time of 0.008019805999994105 for 100 iterations\n",
      "Function mean_current_location_dict takes average run time of 0.01048348300000498 for 100 iterations\n",
      "Function oldest_person_age_dict takes average run time of 0.007958611000007068 for 100 iterations\n",
      "Function average_age_dict takes average run time of 0.008322694000003138 for 100 iterations\n",
      "\n",
      " ========================\n",
      "Named Tuple performed 3 times faster\n",
      "\n",
      " ========================\n"
     ]
    },
    {
     "data": {
      "text/plain": [
       "(0.013061899000002769, 0.034784594000009286)"
      ]
     },
     "execution_count": 13,
     "metadata": {},
     "output_type": "execute_result"
    }
   ],
   "source": [
    "s10.compare_time(faker_db, faker_db_dict)"
   ]
  },
  {
   "cell_type": "markdown",
   "metadata": {},
   "source": [
    "### 3. Create a fake data (you can use Faker for company names) for imaginary stock exchange for top 100 companies (name, symbol, open, high, close). Assign a random weight to all the companies. Calculate and show what value stock market started at, what was the highest value during the day and where did it end. Make sure your open, high, close are not totally random."
   ]
  },
  {
   "cell_type": "code",
   "execution_count": 20,
   "metadata": {},
   "outputs": [],
   "source": [
    "# create fake company profiles and list them in exchange\n",
    "stock_exchange = s10.create_stock_exchange(num_of_listed_comp = 100)"
   ]
  },
  {
   "cell_type": "code",
   "execution_count": 21,
   "metadata": {},
   "outputs": [
    {
     "name": "stdout",
     "output_type": "stream",
     "text": [
      "=======Stock Exchange Preformace=========\n",
      "Market opened at 3959.34, reached to highest of 4192.47 while touched to lowest at 3075.17 and finally closed at 3633.43\n"
     ]
    }
   ],
   "source": [
    "# Stock market details\n",
    "day_open,day_high,day_low,day_close = s10.stock_exchange_details(stock_exchange)\n",
    "print(\"=======Stock Exchange Preformace=========\")\n",
    "print(f'Market opened at {day_open}, reached to highest of {day_high} while touched to lowest at {day_low} and finally closed at {day_close}')"
   ]
  },
  {
   "cell_type": "code",
   "execution_count": 22,
   "metadata": {},
   "outputs": [
    {
     "data": {
      "text/html": [
       "<div>\n",
       "<style scoped>\n",
       "    .dataframe tbody tr th:only-of-type {\n",
       "        vertical-align: middle;\n",
       "    }\n",
       "\n",
       "    .dataframe tbody tr th {\n",
       "        vertical-align: top;\n",
       "    }\n",
       "\n",
       "    .dataframe thead th {\n",
       "        text-align: right;\n",
       "    }\n",
       "</style>\n",
       "<table border=\"1\" class=\"dataframe\">\n",
       "  <thead>\n",
       "    <tr style=\"text-align: right;\">\n",
       "      <th></th>\n",
       "      <th>company_name</th>\n",
       "      <th>symbol</th>\n",
       "      <th>value</th>\n",
       "      <th>open</th>\n",
       "      <th>high</th>\n",
       "      <th>low</th>\n",
       "      <th>close</th>\n",
       "    </tr>\n",
       "  </thead>\n",
       "  <tbody>\n",
       "    <tr>\n",
       "      <th>0</th>\n",
       "      <td>James-Baldwin</td>\n",
       "      <td>JWN</td>\n",
       "      <td>4222</td>\n",
       "      <td>62.54</td>\n",
       "      <td>78.80</td>\n",
       "      <td>31.78</td>\n",
       "      <td>41.25</td>\n",
       "    </tr>\n",
       "    <tr>\n",
       "      <th>1</th>\n",
       "      <td>Poole and Sons</td>\n",
       "      <td>PSS</td>\n",
       "      <td>4586</td>\n",
       "      <td>23.32</td>\n",
       "      <td>22.39</td>\n",
       "      <td>12.88</td>\n",
       "      <td>13.51</td>\n",
       "    </tr>\n",
       "    <tr>\n",
       "      <th>2</th>\n",
       "      <td>Kirby, Li and Austin</td>\n",
       "      <td>KIN</td>\n",
       "      <td>3248</td>\n",
       "      <td>66.78</td>\n",
       "      <td>57.43</td>\n",
       "      <td>41.73</td>\n",
       "      <td>53.97</td>\n",
       "    </tr>\n",
       "    <tr>\n",
       "      <th>3</th>\n",
       "      <td>Fischer Ltd</td>\n",
       "      <td>FTD</td>\n",
       "      <td>3860</td>\n",
       "      <td>28.16</td>\n",
       "      <td>30.41</td>\n",
       "      <td>25.07</td>\n",
       "      <td>26.63</td>\n",
       "    </tr>\n",
       "    <tr>\n",
       "      <th>4</th>\n",
       "      <td>Turner Group</td>\n",
       "      <td>TUP</td>\n",
       "      <td>4855</td>\n",
       "      <td>97.68</td>\n",
       "      <td>92.80</td>\n",
       "      <td>60.35</td>\n",
       "      <td>76.94</td>\n",
       "    </tr>\n",
       "    <tr>\n",
       "      <th>...</th>\n",
       "      <td>...</td>\n",
       "      <td>...</td>\n",
       "      <td>...</td>\n",
       "      <td>...</td>\n",
       "      <td>...</td>\n",
       "      <td>...</td>\n",
       "      <td>...</td>\n",
       "    </tr>\n",
       "    <tr>\n",
       "      <th>95</th>\n",
       "      <td>Johnson and Sons</td>\n",
       "      <td>JAS</td>\n",
       "      <td>3981</td>\n",
       "      <td>36.09</td>\n",
       "      <td>29.59</td>\n",
       "      <td>21.03</td>\n",
       "      <td>29.56</td>\n",
       "    </tr>\n",
       "    <tr>\n",
       "      <th>96</th>\n",
       "      <td>Smith, Davis and Bauer</td>\n",
       "      <td>SAR</td>\n",
       "      <td>3990</td>\n",
       "      <td>23.82</td>\n",
       "      <td>28.58</td>\n",
       "      <td>22.95</td>\n",
       "      <td>26.32</td>\n",
       "    </tr>\n",
       "    <tr>\n",
       "      <th>97</th>\n",
       "      <td>Herrera, Smith and Torres</td>\n",
       "      <td>HRS</td>\n",
       "      <td>3320</td>\n",
       "      <td>30.10</td>\n",
       "      <td>33.41</td>\n",
       "      <td>29.71</td>\n",
       "      <td>32.92</td>\n",
       "    </tr>\n",
       "    <tr>\n",
       "      <th>98</th>\n",
       "      <td>Griffin, Vance and Carroll</td>\n",
       "      <td>GCL</td>\n",
       "      <td>4450</td>\n",
       "      <td>67.89</td>\n",
       "      <td>59.74</td>\n",
       "      <td>48.96</td>\n",
       "      <td>51.17</td>\n",
       "    </tr>\n",
       "    <tr>\n",
       "      <th>99</th>\n",
       "      <td>Baker, Wright and Riley</td>\n",
       "      <td>BWY</td>\n",
       "      <td>4102</td>\n",
       "      <td>26.30</td>\n",
       "      <td>26.56</td>\n",
       "      <td>17.28</td>\n",
       "      <td>21.40</td>\n",
       "    </tr>\n",
       "  </tbody>\n",
       "</table>\n",
       "<p>100 rows × 7 columns</p>\n",
       "</div>"
      ],
      "text/plain": [
       "                  company_name symbol  value   open   high    low  close\n",
       "0                James-Baldwin    JWN   4222  62.54  78.80  31.78  41.25\n",
       "1               Poole and Sons    PSS   4586  23.32  22.39  12.88  13.51\n",
       "2         Kirby, Li and Austin    KIN   3248  66.78  57.43  41.73  53.97\n",
       "3                  Fischer Ltd    FTD   3860  28.16  30.41  25.07  26.63\n",
       "4                 Turner Group    TUP   4855  97.68  92.80  60.35  76.94\n",
       "..                         ...    ...    ...    ...    ...    ...    ...\n",
       "95            Johnson and Sons    JAS   3981  36.09  29.59  21.03  29.56\n",
       "96      Smith, Davis and Bauer    SAR   3990  23.82  28.58  22.95  26.32\n",
       "97   Herrera, Smith and Torres    HRS   3320  30.10  33.41  29.71  32.92\n",
       "98  Griffin, Vance and Carroll    GCL   4450  67.89  59.74  48.96  51.17\n",
       "99     Baker, Wright and Riley    BWY   4102  26.30  26.56  17.28  21.40\n",
       "\n",
       "[100 rows x 7 columns]"
      ]
     },
     "execution_count": 22,
     "metadata": {},
     "output_type": "execute_result"
    }
   ],
   "source": [
    "df = pd.DataFrame(stock_exchange)\n",
    "df"
   ]
  }
 ],
 "metadata": {
  "kernelspec": {
   "display_name": "Python 3",
   "language": "python",
   "name": "python3"
  },
  "language_info": {
   "codemirror_mode": {
    "name": "ipython",
    "version": 3
   },
   "file_extension": ".py",
   "mimetype": "text/x-python",
   "name": "python",
   "nbconvert_exporter": "python",
   "pygments_lexer": "ipython3",
   "version": "3.7.7"
  }
 },
 "nbformat": 4,
 "nbformat_minor": 4
}
